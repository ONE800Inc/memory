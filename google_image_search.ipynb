{
 "cells": [
  {
   "attachments": {},
   "cell_type": "markdown",
   "metadata": {},
   "source": [
    "# This is a Test for Google Image Search "
   ]
  },
  {
   "cell_type": "code",
   "execution_count": 2,
   "metadata": {},
   "outputs": [
    {
     "name": "stdout",
     "output_type": "stream",
     "text": [
      "Requirement already satisfied: Google-Images-Search in /opt/homebrew/lib/python3.11/site-packages (1.4.6)\n",
      "Requirement already satisfied: colorama~=0.4 in /opt/homebrew/lib/python3.11/site-packages (from Google-Images-Search) (0.4.6)\n",
      "Requirement already satisfied: pyfiglet~=0.8 in /opt/homebrew/lib/python3.11/site-packages (from Google-Images-Search) (0.8.post1)\n",
      "Requirement already satisfied: termcolor~=1.1 in /opt/homebrew/lib/python3.11/site-packages (from Google-Images-Search) (1.1.0)\n",
      "Requirement already satisfied: click>=7.0<=8.1.* in /opt/homebrew/lib/python3.11/site-packages (from Google-Images-Search) (8.1.3)\n",
      "Requirement already satisfied: six~=1.12 in /Users/jerrycheng/Library/Python/3.11/lib/python/site-packages (from Google-Images-Search) (1.16.0)\n",
      "Requirement already satisfied: requests~=2.21 in /opt/homebrew/lib/python3.11/site-packages (from Google-Images-Search) (2.30.0)\n",
      "Requirement already satisfied: Pillow>=8.1.1 in /opt/homebrew/lib/python3.11/site-packages (from Google-Images-Search) (9.5.0)\n",
      "Requirement already satisfied: python-resize-image~=1.1 in /opt/homebrew/lib/python3.11/site-packages (from Google-Images-Search) (1.1.20)\n",
      "Requirement already satisfied: google-api-python-client~=2.48.0 in /opt/homebrew/lib/python3.11/site-packages (from Google-Images-Search) (2.48.0)\n",
      "Requirement already satisfied: httplib2<1dev,>=0.15.0 in /opt/homebrew/lib/python3.11/site-packages (from google-api-python-client~=2.48.0->Google-Images-Search) (0.22.0)\n",
      "Requirement already satisfied: google-auth<3.0.0dev,>=1.16.0 in /opt/homebrew/lib/python3.11/site-packages (from google-api-python-client~=2.48.0->Google-Images-Search) (2.17.3)\n",
      "Requirement already satisfied: google-auth-httplib2>=0.1.0 in /opt/homebrew/lib/python3.11/site-packages (from google-api-python-client~=2.48.0->Google-Images-Search) (0.1.0)\n",
      "Requirement already satisfied: google-api-core!=2.0.*,!=2.1.*,!=2.2.*,!=2.3.0,<3.0.0dev,>=1.31.5 in /opt/homebrew/lib/python3.11/site-packages (from google-api-python-client~=2.48.0->Google-Images-Search) (2.11.0)\n",
      "Requirement already satisfied: uritemplate<5,>=3.0.1 in /opt/homebrew/lib/python3.11/site-packages (from google-api-python-client~=2.48.0->Google-Images-Search) (4.1.1)\n",
      "Requirement already satisfied: charset-normalizer<4,>=2 in /opt/homebrew/lib/python3.11/site-packages (from requests~=2.21->Google-Images-Search) (3.1.0)\n",
      "Requirement already satisfied: idna<4,>=2.5 in /opt/homebrew/lib/python3.11/site-packages (from requests~=2.21->Google-Images-Search) (3.4)\n",
      "Requirement already satisfied: urllib3<3,>=1.21.1 in /opt/homebrew/lib/python3.11/site-packages (from requests~=2.21->Google-Images-Search) (1.26.15)\n",
      "Requirement already satisfied: certifi>=2017.4.17 in /opt/homebrew/lib/python3.11/site-packages (from requests~=2.21->Google-Images-Search) (2022.12.7)\n",
      "Requirement already satisfied: googleapis-common-protos<2.0dev,>=1.56.2 in /opt/homebrew/lib/python3.11/site-packages (from google-api-core!=2.0.*,!=2.1.*,!=2.2.*,!=2.3.0,<3.0.0dev,>=1.31.5->google-api-python-client~=2.48.0->Google-Images-Search) (1.59.0)\n",
      "Requirement already satisfied: protobuf!=3.20.0,!=3.20.1,!=4.21.0,!=4.21.1,!=4.21.2,!=4.21.3,!=4.21.4,!=4.21.5,<5.0.0dev,>=3.19.5 in /opt/homebrew/lib/python3.11/site-packages (from google-api-core!=2.0.*,!=2.1.*,!=2.2.*,!=2.3.0,<3.0.0dev,>=1.31.5->google-api-python-client~=2.48.0->Google-Images-Search) (3.20.3)\n",
      "Requirement already satisfied: cachetools<6.0,>=2.0.0 in /opt/homebrew/lib/python3.11/site-packages (from google-auth<3.0.0dev,>=1.16.0->google-api-python-client~=2.48.0->Google-Images-Search) (5.3.0)\n",
      "Requirement already satisfied: pyasn1-modules>=0.2.1 in /opt/homebrew/lib/python3.11/site-packages (from google-auth<3.0.0dev,>=1.16.0->google-api-python-client~=2.48.0->Google-Images-Search) (0.3.0)\n",
      "Requirement already satisfied: rsa<5,>=3.1.4 in /opt/homebrew/lib/python3.11/site-packages (from google-auth<3.0.0dev,>=1.16.0->google-api-python-client~=2.48.0->Google-Images-Search) (4.9)\n",
      "Requirement already satisfied: pyparsing!=3.0.0,!=3.0.1,!=3.0.2,!=3.0.3,<4,>=2.4.2 in /opt/homebrew/lib/python3.11/site-packages (from httplib2<1dev,>=0.15.0->google-api-python-client~=2.48.0->Google-Images-Search) (3.0.9)\n",
      "Requirement already satisfied: pyasn1<0.6.0,>=0.4.6 in /opt/homebrew/lib/python3.11/site-packages (from pyasn1-modules>=0.2.1->google-auth<3.0.0dev,>=1.16.0->google-api-python-client~=2.48.0->Google-Images-Search) (0.5.0)\n"
     ]
    }
   ],
   "source": [
    "!pip3 install Google-Images-Search"
   ]
  },
  {
   "cell_type": "code",
   "execution_count": null,
   "metadata": {},
   "outputs": [],
   "source": []
  }
 ],
 "metadata": {
  "kernelspec": {
   "display_name": "Python 3",
   "language": "python",
   "name": "python3"
  },
  "language_info": {
   "codemirror_mode": {
    "name": "ipython",
    "version": 3
   },
   "file_extension": ".py",
   "mimetype": "text/x-python",
   "name": "python",
   "nbconvert_exporter": "python",
   "pygments_lexer": "ipython3",
   "version": "3.11.3"
  },
  "orig_nbformat": 4
 },
 "nbformat": 4,
 "nbformat_minor": 2
}
