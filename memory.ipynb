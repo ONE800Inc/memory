{
 "cells": [
  {
   "cell_type": "code",
   "execution_count": 2,
   "metadata": {},
   "outputs": [
    {
     "name": "stderr",
     "output_type": "stream",
     "text": [
      "2023-05-25 18:28:29.690 \n",
      "  \u001b[33m\u001b[1mWarning:\u001b[0m to view this Streamlit app on a browser, run it with the following\n",
      "  command:\n",
      "\n",
      "    streamlit run /Users/jerrycheng/Library/Python/3.11/lib/python/site-packages/ipykernel_launcher.py [ARGUMENTS]\n"
     ]
    }
   ],
   "source": [
    "# bring in deps \n",
    "\n",
    "import os \n",
    "from langchain_testings.apikey import API_KEY\n",
    "\n",
    "import streamlit as st \n",
    "from langchain.llms import OpenAI \n",
    "\n",
    "os.environ['OPEN_AI_KEY'] = API_KEY\n",
    "\n",
    "st.title('Youtube GPT Creator')\n",
    "prompt = st.text_input('plug in your prompt here ')"
   ]
  }
 ],
 "metadata": {
  "kernelspec": {
   "display_name": "Python 3",
   "language": "python",
   "name": "python3"
  },
  "language_info": {
   "codemirror_mode": {
    "name": "ipython",
    "version": 3
   },
   "file_extension": ".py",
   "mimetype": "text/x-python",
   "name": "python",
   "nbconvert_exporter": "python",
   "pygments_lexer": "ipython3",
   "version": "3.11.3"
  },
  "orig_nbformat": 4
 },
 "nbformat": 4,
 "nbformat_minor": 2
}
